{
 "cells": [
  {
   "cell_type": "code",
   "execution_count": 1,
   "metadata": {},
   "outputs": [],
   "source": [
    "import cv2\n",
    "import numpy as np\n",
    "from tkinter import messagebox\n"
   ]
  },
  {
   "cell_type": "code",
   "execution_count": null,
   "metadata": {},
   "outputs": [],
   "source": [
    "class BGR2HSV():\n",
    "\n",
    "    def __init__(self):\n",
    "        self.log_file_name = ''\n",
    "        self.color_BGR_in = []\n",
    "        self.hsv_color_BGR_out = []\n",
    "        self.HSV_int_list = []\n",
    "        self.str_HSV_insert_comma = ''\n",
    "        self.str_paint_net_equiv = ''\n",
    "\n",
    "    def setLogFileName(self, log_file_name):        \n",
    "        self.log_file_name = log_file_name\n",
    "        f = open(self.log_file_name, \"a\")\n",
    "        str_conversion_header = \"Blue, Green, Red, Hue, Saturation, Value, ~Hue Paint.Net, ~Sat Paint.Net, ~Val Paint.Net \\n\"\n",
    "        f.write(str_conversion_header)\n",
    "        f.close()\n",
    "        \n",
    "    def setColorBGR_In(self, colorBGRin):        \n",
    "        self.color_BGR_in = colorBGRin\n",
    "\n",
    "    def getHSVOut(self):\n",
    "        return self.hsv_color_BGR_out\n",
    "\n",
    "    def getStrHSV(self):\n",
    "        return self.str_HSV_insert_comma\n",
    "\n",
    "    def getPaintNetHSV(self):\n",
    "        return self.str_paint_net_equiv\n",
    "\n",
    "    def resetHSVInt(self):\n",
    "        self.HSV_int_list = []\n",
    "    \n",
    "    ##NOTE THIS IS BGR NOT RGB!\n",
    "    def convert_BGR2HSV(self):\n",
    "\n",
    "        if (self.log_file_name == ''):\n",
    "            messagebox.showerror(\"BGR Value Error\", \"NO OUTPUT DIRECTORY SELECT. Select an output directory and try again.\")\n",
    "        else:\n",
    "            color_BGR = np.uint8([[self.color_BGR_in]])\n",
    "            self.hsv_color_BGR_out = cv2.cvtColor(color_BGR,cv2.COLOR_BGR2HSV)\n",
    "            print (self.hsv_color_BGR_out)        \n",
    "            print(self.color_BGR_in)\n",
    "            str_color_in = \"{}\".format(self.color_BGR_in)\n",
    "            str_color_in = str_color_in.replace(\"[\", \"\")\n",
    "            str_color_in = str_color_in.replace(\"]\", \"\")\n",
    "            print(str_color_in)\n",
    "            \n",
    "            str_HSV_result = \"{}\".format(self.hsv_color_BGR_out)\n",
    "            str_HSV_remove_opening_bracket = str_HSV_result.replace(\"[\", \"\")\n",
    "            str_HSV_remove_closing_bracket = str_HSV_remove_opening_bracket.replace(\"]\", \"\")\n",
    "            str_HSV_remove_triple_whtspace = str_HSV_remove_closing_bracket.replace(\"   \", \" \")\n",
    "            str_HSV_remove_double_whtspace = str_HSV_remove_triple_whtspace.replace(\"  \", \" \")\n",
    "            str_str_HSV_remove_double_whtspace_strip = str_HSV_remove_double_whtspace.strip()        \n",
    "            self.str_HSV_insert_comma = str_str_HSV_remove_double_whtspace_strip.replace(\" \", \", \")\n",
    "            print(str_HSV_remove_opening_bracket)\n",
    "            print(str_HSV_remove_closing_bracket)\n",
    "            print(str_HSV_remove_double_whtspace)\n",
    "            print(str_str_HSV_remove_double_whtspace_strip)\n",
    "            print(self.str_HSV_insert_comma)\n"
   ]
  },
  {
   "cell_type": "code",
   "execution_count": null,
   "metadata": {},
   "outputs": [],
   "source": [
    "\n",
    "            # Convert string to a list.\n",
    "            HSV_list = list(self.str_HSV_insert_comma.split(\", \"))\n",
    "            print(HSV_list)"
   ]
  },
  {
   "cell_type": "code",
   "execution_count": null,
   "metadata": {},
   "outputs": [],
   "source": [
    "            # String list to int list conversion of HSV_list\n",
    "            for i in range(0, len(HSV_list)): \n",
    "                self.HSV_int_list.append(int(HSV_list[i]))            \n",
    "            print(self.HSV_int_list)"
   ]
  },
  {
   "cell_type": "code",
   "execution_count": null,
   "metadata": {},
   "outputs": [],
   "source": [
    "\n",
    "            # Convert HSV values to approximate values in Paint.Net. NOTE: Hue values in Paint.Net range\n",
    "            # from 0-360 and 0-179 in OpenCV, Saturation and Value range from 0-100 in Paint.Net and 0-255 in OpenCV.\n",
    "            paint_net_hue = int(2*self.HSV_int_list[0])\n",
    "            paint_net_sat = int((100/255)*self.HSV_int_list[1])\n",
    "            paint_net_val = int((100/255)*self.HSV_int_list[2])\n",
    "\n",
    "            print(\"{}, {}, {}\".format(paint_net_hue, paint_net_sat, paint_net_val))\n",
    "            self.str_paint_net_equiv = (\"{}, {}, {}\".format(paint_net_hue, paint_net_sat, paint_net_val))\n",
    "\n",
    "            str_conversion_input_output = str_color_in + \", \" + self.str_HSV_insert_comma +\", \" + self.str_paint_net_equiv +\"\\n\"\n",
    "            print(str_conversion_input_output)"
   ]
  },
  {
   "cell_type": "code",
   "execution_count": null,
   "metadata": {},
   "outputs": [],
   "source": [
    " f = open(self.log_file_name, \"a\")\n",
    "            f.write(str_conversion_input_output) \n",
    "            f.close()\n"
   ]
  }
 ],
 "metadata": {
  "kernelspec": {
   "display_name": "Python 3",
   "language": "python",
   "name": "python3"
  },
  "language_info": {
   "codemirror_mode": {
    "name": "ipython",
    "version": 3
   },
   "file_extension": ".py",
   "mimetype": "text/x-python",
   "name": "python",
   "nbconvert_exporter": "python",
   "pygments_lexer": "ipython3",
   "version": "3.8.3"
  }
 },
 "nbformat": 4,
 "nbformat_minor": 4
}
