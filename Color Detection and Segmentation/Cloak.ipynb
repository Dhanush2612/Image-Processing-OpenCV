{
 "cells": [
  {
   "cell_type": "code",
   "execution_count": null,
   "metadata": {},
   "outputs": [],
   "source": [
    "# Logger Function\n",
    "def log(label, message):\n",
    "\tprint('[{}] => {}'.format(label, message))"
   ]
  },
  {
   "cell_type": "code",
   "execution_count": null,
   "metadata": {},
   "outputs": [],
   "source": [
    "# Import required modules\n",
    "try:\n",
    "\timport cv2\n",
    "\timport numpy as np\n",
    "\timport time\t \n",
    "except Exception as error:\n",
    "\tlog('ERROR', error)"
   ]
  },
  {
   "cell_type": "code",
   "execution_count": null,
   "metadata": {},
   "outputs": [],
   "source": [
    "# Versions of modules used\n",
    "log('INFO', 'OpenCV Version: ' + cv2.__version__)\n",
    "log('INFO', 'NumPy Version: ' + np.__version__)"
   ]
  },
  {
   "cell_type": "code",
   "execution_count": null,
   "metadata": {},
   "outputs": [],
   "source": [
    "# Capture Video\n",
    "capture_video = cv2.VideoCapture(0)"
   ]
  },
  {
   "cell_type": "code",
   "execution_count": null,
   "metadata": {},
   "outputs": [],
   "source": [
    "# Let the camera warm up\n",
    "log('INFO', 'Warming up camera')\n",
    "time.sleep(1) "
   ]
  },
  {
   "cell_type": "code",
   "execution_count": null,
   "metadata": {},
   "outputs": [],
   "source": [
    "# Variable to store background\n",
    "background = None"
   ]
  },
  {
   "cell_type": "code",
   "execution_count": null,
   "metadata": {},
   "outputs": [],
   "source": [
    "# Capture the background\n",
    "log('INFO', 'Capturing background')\n",
    "for i in range(60):\n",
    "\treturn_val, background = capture_video.read()\n",
    "\tif return_val == False :\n",
    "\t\tcontinue \n"
   ]
  },
  {
   "cell_type": "code",
   "execution_count": null,
   "metadata": {},
   "outputs": [],
   "source": [
    "# Flip background\n",
    "background = np.flip(background, axis=1)"
   ]
  },
  {
   "cell_type": "code",
   "execution_count": null,
   "metadata": {},
   "outputs": [],
   "source": [
    "# Reading from video \n",
    "log('INFO', 'Capturing from video')\n",
    "while (capture_video.isOpened()):\n",
    "\t\n",
    "\ttry:"
   ]
  },
  {
   "cell_type": "code",
   "execution_count": null,
   "metadata": {},
   "outputs": [],
   "source": [
    "\t\t# Read image\n",
    "\t\treturn_val, image = capture_video.read()\n",
    "\t\tif not return_val :\n",
    "\t\t\tbreak "
   ]
  },
  {
   "cell_type": "code",
   "execution_count": null,
   "metadata": {},
   "outputs": [],
   "source": [
    "\t\t# Flip the image\n",
    "\t\timage = np.flip(image, axis=1)\n",
    "\t\t"
   ]
  },
  {
   "cell_type": "code",
   "execution_count": null,
   "metadata": {},
   "outputs": [],
   "source": [
    "\t\t# Transform BGR to HSV\n",
    "\t\thsv = cv2.cvtColor(image, cv2.COLOR_BGR2HSV)\n",
    "\t\t"
   ]
  },
  {
   "cell_type": "code",
   "execution_count": null,
   "metadata": {},
   "outputs": [],
   "source": [
    "\t\t# Generate mask to detect red color\n",
    "\t\t# lower range 1\n",
    "\t\tlower_red = np.array([100, 40, 40])"
   ]
  },
  {
   "cell_type": "code",
   "execution_count": null,
   "metadata": {},
   "outputs": [],
   "source": [
    "\t\t# upper range 1\n",
    "\t\tupper_red = np.array([100, 255, 255])"
   ]
  },
  {
   "cell_type": "code",
   "execution_count": null,
   "metadata": {},
   "outputs": [],
   "source": [
    "\t\t# Mask 1\n",
    "\t\tmask1 = cv2.inRange(hsv,lower_red, upper_red)"
   ]
  },
  {
   "cell_type": "code",
   "execution_count": null,
   "metadata": {},
   "outputs": [],
   "source": [
    "\t\t# lower range 2\n",
    "\t\tlower_red = np.array([155, 40, 40])\n",
    "\t\t# upper range 2\n",
    "\t\tupper_red = np.array([180, 255, 255])"
   ]
  },
  {
   "cell_type": "code",
   "execution_count": null,
   "metadata": {},
   "outputs": [],
   "source": [
    "\t\t# Mask 2\n",
    "\t\tmask2 = cv2.inRange(hsv,lower_red, upper_red)\n"
   ]
  },
  {
   "cell_type": "code",
   "execution_count": null,
   "metadata": {},
   "outputs": [],
   "source": [
    "\t\t# Mask to detect red color\n",
    "\t\tmask1 = mask1 + mask2"
   ]
  },
  {
   "cell_type": "code",
   "execution_count": null,
   "metadata": {},
   "outputs": [],
   "source": [
    "\t\t# Refining the mask corresponding to the detected red color\n",
    "\t\tmask1 = cv2.morphologyEx(mask1, cv2.MORPH_OPEN, np.ones((3,3), np.uint8), iterations=2)\n",
    "\t\tmask1 = cv2.dilate(mask1, np.ones((3,3), np.uint8), iterations = 1)\n",
    "\t\tmask2 = cv2.bitwise_not(mask1)"
   ]
  },
  {
   "cell_type": "code",
   "execution_count": null,
   "metadata": {},
   "outputs": [],
   "source": [
    "\t\t# Generating the final output\n",
    "\t\tres1 = cv2.bitwise_and(background, background, mask=mask1)\n",
    "\t\tres2 = cv2.bitwise_and(image, image, mask=mask2)\n",
    "\t\tfinal_output = cv2.addWeighted(res1, 1, res2, 1, 0)"
   ]
  },
  {
   "cell_type": "code",
   "execution_count": null,
   "metadata": {},
   "outputs": [],
   "source": [
    "\t\tcv2.imshow(\"Color Detection & Segmentation\", final_output)\n",
    "\t\tk = cv2.waitKey(10)\n",
    "\t\tif k == 27:\n",
    "\t\t\tlog('INFO', 'Exiting')\n",
    "\t\t\tbreak\n",
    "\t\n",
    "\texcept Exception as error:\n",
    "\n",
    "\t\tlog('ERROR', error)\n",
    "\t\tlog('INFO', 'Exiting')\n",
    "\t\tbreak"
   ]
  }
 ],
 "metadata": {
  "kernelspec": {
   "display_name": "Python 3",
   "language": "python",
   "name": "python3"
  },
  "language_info": {
   "codemirror_mode": {
    "name": "ipython",
    "version": 3
   },
   "file_extension": ".py",
   "mimetype": "text/x-python",
   "name": "python",
   "nbconvert_exporter": "python",
   "pygments_lexer": "ipython3",
   "version": "3.8.3"
  }
 },
 "nbformat": 4,
 "nbformat_minor": 4
}
